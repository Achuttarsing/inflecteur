{
  "nbformat": 4,
  "nbformat_minor": 0,
  "metadata": {
    "colab": {
      "name": "inflecteur_demo.ipynb",
      "provenance": [],
      "toc_visible": true,
      "authorship_tag": "ABX9TyPQM8nFVR2JBb/vcPH5dh4b",
      "include_colab_link": true
    },
    "kernelspec": {
      "name": "python3",
      "display_name": "Python 3"
    }
  },
  "cells": [
    {
      "cell_type": "markdown",
      "metadata": {
        "id": "view-in-github",
        "colab_type": "text"
      },
      "source": [
        "<a href=\"https://colab.research.google.com/github/Achuttarsing/inflecteur/blob/main/inflecteur_demo.ipynb\" target=\"_parent\"><img src=\"https://colab.research.google.com/assets/colab-badge.svg\" alt=\"Open In Colab\"/></a>"
      ]
    },
    {
      "cell_type": "markdown",
      "metadata": {
        "id": "-C_gpgOpDKnS"
      },
      "source": [
        "# Installation :"
      ]
    },
    {
      "cell_type": "code",
      "metadata": {
        "id": "b8q1RrxWDAXU"
      },
      "source": [
        "!pip install -U transformers \n",
        "!pip install -U inflecteur"
      ],
      "execution_count": null,
      "outputs": []
    },
    {
      "cell_type": "markdown",
      "metadata": {
        "id": "F-B2oFgHDQlu"
      },
      "source": [
        "# How to inflect ?"
      ]
    },
    {
      "cell_type": "code",
      "metadata": {
        "colab": {
          "base_uri": "https://localhost:8080/"
        },
        "id": "hH2Sqc6xDFSo",
        "outputId": "23f33ea2-f9f4-42cc-ead3-6270276d1478"
      },
      "source": [
        "from inflecteur import inflecteur\n",
        "\n",
        "inflecteur = inflecteur()\n",
        "inflecteur.load_dict()"
      ],
      "execution_count": 2,
      "outputs": [
        {
          "output_type": "stream",
          "text": [
            "Downloading\t dela-fr-public...\n",
            "Unzipping\t dela-fr-public...\n",
            "Loading\t dela-fr-public...\n",
            "Done.\n"
          ],
          "name": "stdout"
        }
      ]
    },
    {
      "cell_type": "markdown",
      "metadata": {
        "id": "l60ZiNGKDaI2"
      },
      "source": [
        "### Control tense :"
      ]
    },
    {
      "cell_type": "code",
      "metadata": {
        "colab": {
          "base_uri": "https://localhost:8080/",
          "height": 37
        },
        "id": "7gQW7rRdDW1K",
        "outputId": "599bf943-a84d-458a-fd22-30123473aeaf"
      },
      "source": [
        "inflecteur.inflect_sentence(\"Elle boit un café et mange un croissant.\", tense='Futur')"
      ],
      "execution_count": 4,
      "outputs": [
        {
          "output_type": "execute_result",
          "data": {
            "application/vnd.google.colaboratory.intrinsic+json": {
              "type": "string"
            },
            "text/plain": [
              "'Elle boira un café et mangera un croissant .'"
            ]
          },
          "metadata": {
            "tags": []
          },
          "execution_count": 4
        }
      ]
    },
    {
      "cell_type": "code",
      "metadata": {
        "colab": {
          "base_uri": "https://localhost:8080/",
          "height": 37
        },
        "id": "kEZ-kh_4DfRi",
        "outputId": "ae3dbd9a-7766-4dd7-ff1d-95573b75173a"
      },
      "source": [
        "inflecteur.inflect_sentence(\"Elle boit un café et mange un croissant.\", tense='Passé simple')"
      ],
      "execution_count": 5,
      "outputs": [
        {
          "output_type": "execute_result",
          "data": {
            "application/vnd.google.colaboratory.intrinsic+json": {
              "type": "string"
            },
            "text/plain": [
              "'Elle but un café et mangea un croissant .'"
            ]
          },
          "metadata": {
            "tags": []
          },
          "execution_count": 5
        }
      ]
    },
    {
      "cell_type": "markdown",
      "metadata": {
        "id": "AWNVgK6WGIkq"
      },
      "source": [
        "### Control gender :"
      ]
    },
    {
      "cell_type": "code",
      "metadata": {
        "colab": {
          "base_uri": "https://localhost:8080/",
          "height": 37
        },
        "id": "7gLtHbyxEh2M",
        "outputId": "708284d8-cc7b-4b05-cdc1-a197aced303d"
      },
      "source": [
        "inflecteur.inflect_sentence(\"Elle boit un café et mange un croissant.\", gender='m')"
      ],
      "execution_count": 6,
      "outputs": [
        {
          "output_type": "execute_result",
          "data": {
            "application/vnd.google.colaboratory.intrinsic+json": {
              "type": "string"
            },
            "text/plain": [
              "'Il boit un café et mange un croissant .'"
            ]
          },
          "metadata": {
            "tags": []
          },
          "execution_count": 6
        }
      ]
    },
    {
      "cell_type": "markdown",
      "metadata": {
        "id": "hjuKCXRcGREl"
      },
      "source": [
        "### Control number :"
      ]
    },
    {
      "cell_type": "code",
      "metadata": {
        "colab": {
          "base_uri": "https://localhost:8080/",
          "height": 37
        },
        "id": "fgDP4PKvGN10",
        "outputId": "3b1ab8d0-a9a5-4f6f-f0d6-7570d068f133"
      },
      "source": [
        "inflecteur.inflect_sentence(\"Elle boit un café et mange un croissant.\", number='p')"
      ],
      "execution_count": 7,
      "outputs": [
        {
          "output_type": "execute_result",
          "data": {
            "application/vnd.google.colaboratory.intrinsic+json": {
              "type": "string"
            },
            "text/plain": [
              "'Elles boivent des cafés et mangent des croissants .'"
            ]
          },
          "metadata": {
            "tags": []
          },
          "execution_count": 7
        }
      ]
    },
    {
      "cell_type": "markdown",
      "metadata": {
        "id": "0R7G35X_GYUs"
      },
      "source": [
        "# Get word forms :"
      ]
    },
    {
      "cell_type": "code",
      "metadata": {
        "colab": {
          "base_uri": "https://localhost:8080/",
          "height": 328
        },
        "id": "Qx2L7pliGUxy",
        "outputId": "846c5004-73df-409f-e13c-f331d3443740"
      },
      "source": [
        "inflecteur.get_word_form('pris')"
      ],
      "execution_count": 8,
      "outputs": [
        {
          "output_type": "execute_result",
          "data": {
            "text/html": [
              "<div>\n",
              "<style scoped>\n",
              "    .dataframe tbody tr th:only-of-type {\n",
              "        vertical-align: middle;\n",
              "    }\n",
              "\n",
              "    .dataframe tbody tr th {\n",
              "        vertical-align: top;\n",
              "    }\n",
              "\n",
              "    .dataframe thead th {\n",
              "        text-align: right;\n",
              "    }\n",
              "</style>\n",
              "<table border=\"1\" class=\"dataframe\">\n",
              "  <thead>\n",
              "    <tr style=\"text-align: right;\">\n",
              "      <th></th>\n",
              "      <th>lemma</th>\n",
              "      <th>gram</th>\n",
              "      <th>forme</th>\n",
              "      <th>gender</th>\n",
              "      <th>number</th>\n",
              "      <th>tense</th>\n",
              "      <th>person</th>\n",
              "    </tr>\n",
              "  </thead>\n",
              "  <tbody>\n",
              "    <tr>\n",
              "      <th>0</th>\n",
              "      <td>prendre</td>\n",
              "      <td>Verbe</td>\n",
              "      <td>Kms</td>\n",
              "      <td>M</td>\n",
              "      <td>singular</td>\n",
              "      <td>Passé composé</td>\n",
              "      <td>None</td>\n",
              "    </tr>\n",
              "    <tr>\n",
              "      <th>1</th>\n",
              "      <td>prendre</td>\n",
              "      <td>Verbe</td>\n",
              "      <td>Kmp</td>\n",
              "      <td>M</td>\n",
              "      <td>plural</td>\n",
              "      <td>Passé composé</td>\n",
              "      <td>None</td>\n",
              "    </tr>\n",
              "    <tr>\n",
              "      <th>2</th>\n",
              "      <td>prendre</td>\n",
              "      <td>Verbe</td>\n",
              "      <td>J1s</td>\n",
              "      <td>None</td>\n",
              "      <td>singular</td>\n",
              "      <td>Passé simple</td>\n",
              "      <td>Je</td>\n",
              "    </tr>\n",
              "    <tr>\n",
              "      <th>3</th>\n",
              "      <td>prendre</td>\n",
              "      <td>Verbe</td>\n",
              "      <td>J2s</td>\n",
              "      <td>None</td>\n",
              "      <td>singular</td>\n",
              "      <td>Passé simple</td>\n",
              "      <td>Tu</td>\n",
              "    </tr>\n",
              "    <tr>\n",
              "      <th>4</th>\n",
              "      <td>prendre</td>\n",
              "      <td>Verbe</td>\n",
              "      <td>Kms</td>\n",
              "      <td>M</td>\n",
              "      <td>singular</td>\n",
              "      <td>Passé composé</td>\n",
              "      <td>None</td>\n",
              "    </tr>\n",
              "    <tr>\n",
              "      <th>5</th>\n",
              "      <td>prendre</td>\n",
              "      <td>Verbe</td>\n",
              "      <td>J1s</td>\n",
              "      <td>None</td>\n",
              "      <td>singular</td>\n",
              "      <td>Passé simple</td>\n",
              "      <td>Je</td>\n",
              "    </tr>\n",
              "    <tr>\n",
              "      <th>6</th>\n",
              "      <td>prendre</td>\n",
              "      <td>Verbe</td>\n",
              "      <td>J2s</td>\n",
              "      <td>None</td>\n",
              "      <td>singular</td>\n",
              "      <td>Passé simple</td>\n",
              "      <td>Tu</td>\n",
              "    </tr>\n",
              "    <tr>\n",
              "      <th>7</th>\n",
              "      <td>pris</td>\n",
              "      <td>Adjectif</td>\n",
              "      <td>ms</td>\n",
              "      <td>M</td>\n",
              "      <td>singular</td>\n",
              "      <td>None</td>\n",
              "      <td>None</td>\n",
              "    </tr>\n",
              "    <tr>\n",
              "      <th>8</th>\n",
              "      <td>pris</td>\n",
              "      <td>Adjectif</td>\n",
              "      <td>mp</td>\n",
              "      <td>M</td>\n",
              "      <td>plural</td>\n",
              "      <td>None</td>\n",
              "      <td>None</td>\n",
              "    </tr>\n",
              "  </tbody>\n",
              "</table>\n",
              "</div>"
            ],
            "text/plain": [
              "     lemma      gram forme gender    number          tense person\n",
              "0  prendre     Verbe   Kms      M  singular  Passé composé   None\n",
              "1  prendre     Verbe   Kmp      M    plural  Passé composé   None\n",
              "2  prendre     Verbe   J1s   None  singular   Passé simple     Je\n",
              "3  prendre     Verbe   J2s   None  singular   Passé simple     Tu\n",
              "4  prendre     Verbe   Kms      M  singular  Passé composé   None\n",
              "5  prendre     Verbe   J1s   None  singular   Passé simple     Je\n",
              "6  prendre     Verbe   J2s   None  singular   Passé simple     Tu\n",
              "7     pris  Adjectif    ms      M  singular           None   None\n",
              "8     pris  Adjectif    mp      M    plural           None   None"
            ]
          },
          "metadata": {
            "tags": []
          },
          "execution_count": 8
        }
      ]
    }
  ]
}